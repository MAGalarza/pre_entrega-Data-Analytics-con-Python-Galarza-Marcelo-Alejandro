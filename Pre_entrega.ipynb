{
  "nbformat": 4,
  "nbformat_minor": 0,
  "metadata": {
    "colab": {
      "private_outputs": true,
      "provenance": []
    },
    "kernelspec": {
      "name": "python3",
      "display_name": "Python 3"
    },
    "language_info": {
      "name": "python"
    }
  },
  "cells": [
    {
      "cell_type": "markdown",
      "source": [
        "# Etapa 1: Recopilación y Preparación de Datos (Clases 1 a 4)"
      ],
      "metadata": {
        "id": "9iEdKqQokiCh"
      }
    },
    {
      "cell_type": "markdown",
      "source": [
        "## Objetivo: Demostrar habilidades en Python, familiaridad con el entorno de trabajo y conocimientos básicos sobre manipulación de datos.\n",
        "\n",
        "###Actividades:\n",
        "\n",
        "\n",
        "\n",
        "5- Calidad de Datos: Identificar valores nulos y duplicados en los conjuntos de datos. Documentar el estado inicial de los datos."
      ],
      "metadata": {
        "id": "7h-Obcsjkqzw"
      }
    },
    {
      "cell_type": "code",
      "source": [
        "import pandas as pd\n",
        "import numpy as np"
      ],
      "metadata": {
        "id": "NAe2VJaORov_"
      },
      "execution_count": null,
      "outputs": []
    },
    {
      "cell_type": "markdown",
      "source": [
        "1- Crear un documento en Google Colaboratory y cargar los sets de datos como DataFrames."
      ],
      "metadata": {
        "id": "FyB1EznmSF5N"
      }
    },
    {
      "cell_type": "code",
      "source": [
        "from google.colab import drive\n",
        "drive.mount('/content/drive')"
      ],
      "metadata": {
        "id": "as3K_X61SHXV"
      },
      "execution_count": null,
      "outputs": []
    },
    {
      "cell_type": "code",
      "source": [
        "import os\n",
        "os.listdir('/content/drive/MyDrive/GALARZA Marcelo Alejandro-Comisión 25262-TPI Data Analytics/Datasets')\n"
      ],
      "metadata": {
        "id": "AujvQkhsS5Fm"
      },
      "execution_count": null,
      "outputs": []
    },
    {
      "cell_type": "code",
      "source": [
        "pd.read_csv('/content/drive/MyDrive/GALARZA Marcelo Alejandro-Comisión 25262-TPI Data Analytics/Datasets/ventas.csv')\n",
        "df_ventas = pd.read_csv('/content/drive/MyDrive/GALARZA Marcelo Alejandro-Comisión 25262-TPI Data Analytics/Datasets/ventas.csv')"
      ],
      "metadata": {
        "id": "nZpCeHdlUZgP"
      },
      "execution_count": null,
      "outputs": []
    },
    {
      "cell_type": "code",
      "source": [
        "pd.read_csv('/content/drive/MyDrive/GALARZA Marcelo Alejandro-Comisión 25262-TPI Data Analytics/Datasets/clientes.csv')\n",
        "df_clientes = pd.read_csv('/content/drive/MyDrive/GALARZA Marcelo Alejandro-Comisión 25262-TPI Data Analytics/Datasets/clientes.csv')"
      ],
      "metadata": {
        "id": "7C_brN4TVGXl"
      },
      "execution_count": null,
      "outputs": []
    },
    {
      "cell_type": "code",
      "source": [
        "pd.read_csv('/content/drive/MyDrive/GALARZA Marcelo Alejandro-Comisión 25262-TPI Data Analytics/Datasets/marketing.csv')\n",
        "df_marketing = pd.read_csv('/content/drive/MyDrive/GALARZA Marcelo Alejandro-Comisión 25262-TPI Data Analytics/Datasets/marketing.csv')"
      ],
      "metadata": {
        "id": "AtWtoTNXV97O"
      },
      "execution_count": null,
      "outputs": []
    },
    {
      "cell_type": "markdown",
      "source": [
        "2- Realizar un script básico que calcule las ventas mensuales utilizando variables y operadores."
      ],
      "metadata": {
        "id": "n5y6zc96OCnI"
      }
    },
    {
      "cell_type": "code",
      "source": [
        "# NO SE HIZO"
      ],
      "metadata": {
        "id": "gHrwpcEUMv7E"
      },
      "execution_count": null,
      "outputs": []
    },
    {
      "cell_type": "markdown",
      "source": [
        "4- Introducción a Pandas: realizar un análisis exploratorio inicial de los DataFrames."
      ],
      "metadata": {
        "id": "mmpvH5cIXMH1"
      }
    },
    {
      "cell_type": "code",
      "source": [
        "print(\"Análisis exploratorio de ventas\")\n",
        "\n",
        "print(\"Primeras filas Ventas: \")\n",
        "print(df_ventas.head())\n",
        "\n",
        "print(\"\\nÚltimas filas Ventas: \")\n",
        "print(df_ventas.tail())\n",
        "\n",
        "print(\"\\n dimensiones (filas, columnas): \")\n",
        "print(df_ventas.shape)\n",
        "\n",
        "print(\"\\nInformación Ventas: \")\n",
        "print(df_ventas.info())\n",
        "\n",
        "print(\"\\nDescripción Ventas: \")\n",
        "print(df_ventas.describe())\n",
        "\n"
      ],
      "metadata": {
        "id": "b0M9XU8-XVPd"
      },
      "execution_count": null,
      "outputs": []
    },
    {
      "cell_type": "code",
      "source": [
        "print(\"Análisis exploratorio de Clientes\")\n",
        "\n",
        "print(\"Primeras filas Clientes: \")\n",
        "print(df_clientes.head())\n",
        "\n",
        "print(\"\\nÚltimas filas clientes: \")\n",
        "print(df_clientes.tail())\n",
        "\n",
        "print(\"\\n dimensiones (filas, columnas): \")\n",
        "print(df_clientes.shape)\n",
        "\n",
        "print(\"\\nInformación Clientes: \")\n",
        "print(df_clientes.info())\n",
        "\n",
        "print(\"\\nDescripción Clientes: \")\n",
        "print(df_clientes.describe())"
      ],
      "metadata": {
        "id": "uiPSVJx8enfr"
      },
      "execution_count": null,
      "outputs": []
    },
    {
      "cell_type": "code",
      "source": [
        "print(\"Análisis exploratorio de Marketing\")\n",
        "\n",
        "print(\"Primeras filas Marketing: \")\n",
        "print(df_marketing.head())\n",
        "\n",
        "print(\"\\nÚltimas filas Marketing: \")\n",
        "print(df_marketing.tail())\n",
        "\n",
        "print(\"\\n dimensiones (filas, columnas): \")\n",
        "print(df_marketing.shape)\n",
        "\n",
        "print(\"\\nInformación Marketing: \")\n",
        "print(df_marketing.info())\n",
        "\n",
        "print(\"\\nDescripción Marketing: \")\n",
        "print(df_marketing.describe())"
      ],
      "metadata": {
        "id": "Uq_0PgVUesww"
      },
      "execution_count": null,
      "outputs": []
    },
    {
      "cell_type": "markdown",
      "source": [
        "3- Estructuras de Datos: Desarrollar un programa que almacene los datos de ventas (producto, precio, cantidad). Decidir si conviene utilizar diccionarios o listas."
      ],
      "metadata": {
        "id": "zoJHRxClzyVA"
      }
    },
    {
      "cell_type": "code",
      "source": [],
      "metadata": {
        "id": "kAOrCOelesSQ"
      },
      "execution_count": null,
      "outputs": []
    },
    {
      "cell_type": "markdown",
      "source": [
        "*Análisis exploratorio de marketing*"
      ],
      "metadata": {
        "id": "V4m9pyOhYVKM"
      }
    },
    {
      "cell_type": "markdown",
      "source": [
        "#Etapa 2: Preprocesamiento y Limpieza de Datos (Clases 5 a 8)"
      ],
      "metadata": {
        "id": "7U9BXcCRsVDv"
      }
    },
    {
      "cell_type": "markdown",
      "source": [
        "## Objetivo: Demostrar conocimiento de las técnicas de limpieza y transformación de datos."
      ],
      "metadata": {
        "id": "fPEJBmLVsXT-"
      }
    },
    {
      "cell_type": "markdown",
      "source": [
        "### Actividades:\n",
        "\n",
        "1- Limpieza de Datos: Limpiar el conjunto de datos eliminando duplicados y caracteres no deseados. Documentar el proceso y los resultados.\n",
        "\n",
        "2- Transformación de Datos: Aplicar filtros y transformaciones para crear una tabla de ventas que muestre solo los productos con alto rendimiento.\n",
        "\n",
        "3- Agregación: Resumir las ventas por categoría de producto y analizar los ingresos generados.\n",
        "\n",
        "4- Integración de Datos: Combinar los sets de datos de ventas y marketing para obtener una visión más amplia de las tendencias."
      ],
      "metadata": {
        "id": "hzTe6Rz4se_w"
      }
    }
  ]
}